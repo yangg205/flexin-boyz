{
 "cells": [
  {
   "cell_type": "code",
   "execution_count": null,
   "id": "33c8b44c",
   "metadata": {
    "vscode": {
     "languageId": "plaintext"
    }
   },
   "outputs": [],
   "source": [
    "from IPython.display import display, Image, clear_output\n",
    "import cv2\n",
    "\n",
    "width, height = 640, 480\n",
    "pipeline = (\n",
    "    f\"nvarguscamerasrc ! \"\n",
    "    f\"video/x-raw(memory:NVMM), width={width}, height={height}, format=NV12, framerate=30/1 ! \"\n",
    "    f\"nvvidconv ! video/x-raw, format=BGRx ! videoconvert ! video/x-raw, format=BGR ! appsink\"\n",
    ")\n",
    "camera = cv2.VideoCapture(pipeline, cv2.CAP_GSTREAMER)\n",
    "\n",
    "if not camera.isOpened():\n",
    "    raise RuntimeError(\"Không mở được camera CSI\")\n",
    "\n",
    "while True:\n",
    "    ret, frame = camera.read()\n",
    "    if not ret:\n",
    "        continue\n",
    "    _, jpeg = cv2.imencode('.jpg', frame)\n",
    "    display(Image(data=jpeg.tobytes()))\n",
    "    clear_output(wait=True)\n"
   ]
  }
 ],
 "metadata": {
  "language_info": {
   "name": "python"
  }
 },
 "nbformat": 4,
 "nbformat_minor": 5
}
