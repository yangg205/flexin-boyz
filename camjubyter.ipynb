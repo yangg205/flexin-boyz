{
 "cells": [
  {
   "cell_type": "code",
   "execution_count": null,
   "id": "33c8b44c",
   "metadata": {
    "vscode": {
     "languageId": "plaintext"
    }
   },
   "outputs": [],
   "source": [
    "import cv2\n",
    "import ipywidgets\n",
    "from IPython.display import display\n",
    "from ultralytics import YOLO\n",
    "from jupyter_clickable_image_widget import ClickableImageWidget\n",
    "\n",
    "# --- GStreamer CSI camera ---\n",
    "width, height = 640, 480\n",
    "pipeline = (\n",
    "    f\"nvarguscamerasrc ! \"\n",
    "    f\"video/x-raw(memory:NVMM), width={width}, height={height}, format=NV12, framerate=30/1 ! \"\n",
    "    f\"nvvidconv ! video/x-raw, format=BGRx ! videoconvert ! video/x-raw, format=BGR ! appsink\"\n",
    ")\n",
    "camera = cv2.VideoCapture(pipeline, cv2.CAP_GSTREAMER)\n",
    "if not camera.isOpened():\n",
    "    raise RuntimeError(\"Không mở được camera CSI\")\n",
    "\n",
    "# --- Load YOLO model ---\n",
    "model = YOLO(\"/home/jetbot/flexin-boyz/model/best.pt\")  # đường dẫn model YOLO của bạn\n",
    "\n",
    "# --- Chuyển frame BGR -> JPEG bytes ---\n",
    "def bgr8_to_jpeg(frame):\n",
    "    _, jpeg = cv2.imencode('.jpg', frame)\n",
    "    return jpeg.tobytes()\n",
    "\n",
    "# --- Widget preview ---\n",
    "camera_widget = ClickableImageWidget(width=width, height=height)\n",
    "display(camera_widget)\n",
    "\n",
    "# --- Camera loop với YOLO ---\n",
    "from threading import Timer\n",
    "\n",
    "def camera_loop():\n",
    "    ret, frame = camera.read()\n",
    "    if ret:\n",
    "        # Chạy YOLO detection\n",
    "        results = model(frame)[0]  # chỉ lấy result đầu tiên\n",
    "        for box in results.boxes.xyxy:\n",
    "            x1, y1, x2, y2 = map(int, box)\n",
    "            cv2.rectangle(frame, (x1, y1), (x2, y2), (0, 255, 0), 2)\n",
    "        \n",
    "        camera_widget.value = bgr8_to_jpeg(frame)\n",
    "    \n",
    "    Timer(0.05, camera_loop).start()  # ~20 FPS\n",
    "\n",
    "camera_loop()\n"
   ]
  }
 ],
 "metadata": {
  "language_info": {
   "name": "python"
  }
 },
 "nbformat": 4,
 "nbformat_minor": 5
}
